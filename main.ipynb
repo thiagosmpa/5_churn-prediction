{
 "cells": [
  {
   "cell_type": "code",
   "execution_count": null,
   "metadata": {},
   "outputs": [],
   "source": [
    "import pandas as pd\n",
    "pd.set_option('display.max_columns', None)\n",
    "\n",
    "import seaborn as sns\n",
    "import matplotlib.pyplot as plt\n",
    "\n",
    "df = pd.read_csv('dataset/churn.csv')\n",
    "print(df.shape)\n",
    "df.head()"
   ]
  },
  {
   "cell_type": "markdown",
   "metadata": {},
   "source": [
    "# DATA ANALYSIS"
   ]
  },
  {
   "cell_type": "code",
   "execution_count": null,
   "metadata": {},
   "outputs": [],
   "source": [
    "df.info()"
   ]
  },
  {
   "cell_type": "code",
   "execution_count": 70,
   "metadata": {},
   "outputs": [
    {
     "name": "stdout",
     "output_type": "stream",
     "text": [
      "18 Categorical Columns\n",
      "3 Numerical Columns\n"
     ]
    }
   ],
   "source": [
    "cat_cols = [col for col in df.columns if df[col].dtype == 'object']\n",
    "num_cols = [col for col in df.columns if df[col].dtype != 'object']\n",
    "\n",
    "print(f'{len(cat_cols)} Categorical Columns')\n",
    "print(f'{len(num_cols)} Numerical Columns')"
   ]
  },
  {
   "cell_type": "code",
   "execution_count": null,
   "metadata": {},
   "outputs": [],
   "source": [
    "df.describe()"
   ]
  },
  {
   "cell_type": "code",
   "execution_count": null,
   "metadata": {},
   "outputs": [],
   "source": [
    "sns.set_theme(style=\"whitegrid\")\n",
    "\n",
    "plt.figure(figsize=(6, 6))\n",
    "churn_counts = df['Churn'].value_counts()\n",
    "plt.pie(churn_counts.values, labels=churn_counts.index, autopct='%1.1f%%', startangle=90, colors=sns.color_palette(\"Set2\"))\n",
    "plt.title(\"Distribuição de Churn (Yes/No)\")\n",
    "plt.axis('equal')\n",
    "plt.show()"
   ]
  },
  {
   "cell_type": "code",
   "execution_count": null,
   "metadata": {},
   "outputs": [],
   "source": [
    "plt.figure(figsize=(15, 6))\n",
    "plt.suptitle('Distribuição das Variáveis Numéricas')\n",
    "\n",
    "plt.subplot(1, 2, 1)\n",
    "sns.histplot(data=df, x='MonthlyCharges', hue='Churn', multiple='stack', bins=30, palette=\"Set2\", kde=True)\n",
    "\n",
    "plt.subplot(1, 2, 2)\n",
    "sns.histplot(data=df, x='tenure', hue='Churn', multiple='stack', bins=30, palette=\"Set2\", kde=True)\n",
    "plt.show()\n"
   ]
  },
  {
   "cell_type": "code",
   "execution_count": null,
   "metadata": {},
   "outputs": [],
   "source": [
    "plt.figure(figsize=(15, 6))\n",
    "plt.suptitle('Relações entre Variáveis Categóricas e Churn')\n",
    "\n",
    "plt.subplot(1, 3, 1)\n",
    "sns.countplot(data=df, x='Contract', hue='Churn', palette='Set2')\n",
    "plt.xticks(rotation=45)\n",
    "plt.title('Relação entre Contract e Churn')\n",
    "\n",
    "# Relação entre Payment Method e Churn\n",
    "plt.subplot(1, 3, 2)\n",
    "sns.countplot(data=df, x='PaymentMethod', hue='Churn', palette='Set2')\n",
    "plt.xticks(rotation=45)\n",
    "plt.title('Relação entre Payment Method e Churn')\n",
    "\n",
    "# Distribuição de MonthlyCharges com Churn\n",
    "plt.subplot(1, 3, 3)\n",
    "sns.boxplot(x='Churn', y='MonthlyCharges', data=df, palette='Set2')\n",
    "plt.title('Distribuição de MonthlyCharges por Churn')\n",
    "plt.show()\n"
   ]
  },
  {
   "cell_type": "code",
   "execution_count": null,
   "metadata": {},
   "outputs": [],
   "source": [
    "df['TotalCharges'] = pd.to_numeric(df['TotalCharges'], errors='coerce')\n",
    "print(df['TotalCharges'].isnull().sum())\n",
    "df['TotalCharges'] = df['TotalCharges'].fillna(df['TotalCharges'].median(), inplace=True)\n",
    "\n",
    "contract_mapping = {\n",
    "    'Month-to-month': 0,\n",
    "    'One year': 1,\n",
    "    'Two year': 2\n",
    "}\n",
    "df['Contract'] = df['Contract'].map(contract_mapping)\n",
    "\n",
    "churn_data_encoded = pd.get_dummies(df, drop_first=True)\n",
    "churn_data_encoded.rename(columns={'Churn_Yes': 'Churn'}, inplace=True)\n",
    "churn_data_encoded.head()"
   ]
  },
  {
   "cell_type": "markdown",
   "metadata": {},
   "source": [
    "# AUTOGLUON"
   ]
  },
  {
   "cell_type": "code",
   "execution_count": null,
   "metadata": {},
   "outputs": [],
   "source": [
    "from autogluon.tabular import TabularPredictor\n",
    "\n",
    "label = 'Churn'\n",
    "\n",
    "churn_data_encoded = pd.get_dummies(df, drop_first=True)\n",
    "churn_data_encoded.rename(columns={'Churn_Yes': 'Churn'}, inplace=True)\n",
    "\n",
    "X = churn_data_encoded.sample(frac=0.8, random_state=1)\n",
    "test_data = churn_data_encoded.drop(X.index)\n",
    "\n",
    "# Treinar o modelo com o AutoGluon sem o preset 'best_quality'\n",
    "predictor = TabularPredictor(label=label, eval_metric='accuracy', problem_type='binary', path='models')\n",
    "predictor.delete_models(models_to_keep='best', dry_run=False)\n",
    "predictor.save_space()"
   ]
  },
  {
   "cell_type": "code",
   "execution_count": null,
   "metadata": {},
   "outputs": [],
   "source": [
    "churn_data_encoded['Churn'].value_counts()"
   ]
  },
  {
   "cell_type": "code",
   "execution_count": null,
   "metadata": {},
   "outputs": [],
   "source": [
    "predictor.fit(churn_data_encoded)"
   ]
  },
  {
   "cell_type": "code",
   "execution_count": 79,
   "metadata": {},
   "outputs": [
    {
     "name": "stdout",
     "output_type": "stream",
     "text": [
      "{'accuracy': 0.8466997870830376, 'balanced_accuracy': 0.7697317272773772, 'mcc': 0.589183282867853, 'roc_auc': 0.9111375377218556, 'f1': 0.6795252225519288, 'precision': 0.7789115646258503, 'recall': 0.6026315789473684}\n"
     ]
    }
   ],
   "source": [
    "performance = predictor.evaluate(test_data)\n",
    "print(performance)"
   ]
  },
  {
   "cell_type": "markdown",
   "metadata": {},
   "source": [
    "# SAVE BEST MODEL"
   ]
  },
  {
   "cell_type": "code",
   "execution_count": 120,
   "metadata": {},
   "outputs": [
    {
     "data": {
      "text/plain": [
       "{'accuracy': 0.8466997870830376,\n",
       " 'balanced_accuracy': 0.7697317272773772,\n",
       " 'mcc': 0.589183282867853,\n",
       " 'roc_auc': 0.9111375377218556,\n",
       " 'f1': 0.6795252225519288,\n",
       " 'precision': 0.7789115646258503,\n",
       " 'recall': 0.6026315789473684}"
      ]
     },
     "execution_count": 120,
     "metadata": {},
     "output_type": "execute_result"
    }
   ],
   "source": [
    "model = predictor.load('models')\n",
    "model.predict(test_data)\n",
    "model.evaluate(test_data)"
   ]
  }
 ],
 "metadata": {
  "kernelspec": {
   "display_name": "data",
   "language": "python",
   "name": "python3"
  },
  "language_info": {
   "codemirror_mode": {
    "name": "ipython",
    "version": 3
   },
   "file_extension": ".py",
   "mimetype": "text/x-python",
   "name": "python",
   "nbconvert_exporter": "python",
   "pygments_lexer": "ipython3",
   "version": "3.10.14"
  }
 },
 "nbformat": 4,
 "nbformat_minor": 2
}
